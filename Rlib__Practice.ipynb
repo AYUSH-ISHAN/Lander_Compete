{
  "nbformat": 4,
  "nbformat_minor": 0,
  "metadata": {
    "colab": {
      "name": "Rlib Practice",
      "provenance": [],
      "collapsed_sections": []
    },
    "kernelspec": {
      "name": "python3",
      "display_name": "Python 3"
    },
    "language_info": {
      "name": "python"
    }
  },
  "cells": [
    {
      "cell_type": "code",
      "metadata": {
        "colab": {
          "base_uri": "https://localhost:8080/"
        },
        "id": "ddQWlhnchUu6",
        "outputId": "e9f5fafd-2856-4ef3-94f1-9c4ae4ecb9df"
      },
      "source": [
        "pip install ray"
      ],
      "execution_count": 2,
      "outputs": [
        {
          "output_type": "stream",
          "name": "stdout",
          "text": [
            "Collecting ray\n",
            "  Downloading ray-1.6.0-cp37-cp37m-manylinux2014_x86_64.whl (49.6 MB)\n",
            "\u001b[K     |████████████████████████████████| 49.6 MB 6.6 kB/s \n",
            "\u001b[?25hRequirement already satisfied: numpy>=1.16 in /usr/local/lib/python3.7/dist-packages (from ray) (1.19.5)\n",
            "Requirement already satisfied: click>=7.0 in /usr/local/lib/python3.7/dist-packages (from ray) (7.1.2)\n",
            "Requirement already satisfied: pyyaml in /usr/local/lib/python3.7/dist-packages (from ray) (3.13)\n",
            "Requirement already satisfied: protobuf>=3.15.3 in /usr/local/lib/python3.7/dist-packages (from ray) (3.17.3)\n",
            "Requirement already satisfied: grpcio>=1.28.1 in /usr/local/lib/python3.7/dist-packages (from ray) (1.41.0)\n",
            "Requirement already satisfied: filelock in /usr/local/lib/python3.7/dist-packages (from ray) (3.2.0)\n",
            "Collecting redis>=3.5.0\n",
            "  Downloading redis-3.5.3-py2.py3-none-any.whl (72 kB)\n",
            "\u001b[K     |████████████████████████████████| 72 kB 592 kB/s \n",
            "\u001b[?25hRequirement already satisfied: msgpack<2.0.0,>=1.0.0 in /usr/local/lib/python3.7/dist-packages (from ray) (1.0.2)\n",
            "Requirement already satisfied: attrs in /usr/local/lib/python3.7/dist-packages (from ray) (21.2.0)\n",
            "Requirement already satisfied: six>=1.5.2 in /usr/local/lib/python3.7/dist-packages (from grpcio>=1.28.1->ray) (1.15.0)\n",
            "Installing collected packages: redis, ray\n",
            "Successfully installed ray-1.6.0 redis-3.5.3\n"
          ]
        }
      ]
    },
    {
      "cell_type": "code",
      "metadata": {
        "colab": {
          "base_uri": "https://localhost:8080/"
        },
        "id": "wxPWtvgngi6M",
        "outputId": "eb274be9-9be3-4a32-c5d2-1fb3a38d5309"
      },
      "source": [
        "import gym, time, random, ray\n",
        "import numpy as np\n",
        "from gym import envs\n",
        "import pandas as pd\n",
        "\n",
        "env = gym.make('CartPole-v0')\n",
        "ray.shutdown()\n",
        "ray.init()\n",
        "time.sleep(2)"
      ],
      "execution_count": 3,
      "outputs": [
        {
          "output_type": "stream",
          "name": "stderr",
          "text": [
            "/usr/local/lib/python3.7/dist-packages/ray/_private/services.py:238: UserWarning: Not all Ray Dashboard dependencies were found. To use the dashboard please install Ray using `pip install ray[default]`. To disable this message, set RAY_DISABLE_IMPORT_WARNING env var to '1'.\n",
            "  warnings.warn(warning_message)\n"
          ]
        }
      ]
    },
    {
      "cell_type": "code",
      "metadata": {
        "colab": {
          "base_uri": "https://localhost:8080/"
        },
        "id": "Bwvj03z0FNXu",
        "outputId": "cbdf4778-ce02-4826-fdca-f7e1a1f378fb"
      },
      "source": [
        "%%time\n",
        "\n",
        "import gym\n",
        "import numpy as np\n",
        "import time\n",
        "\n",
        "def run1():\n",
        "  for i in range(1):\n",
        "    env = gym.make(\"CartPole-v0\")\n",
        "    env.reset()\n",
        "    steps = []\n",
        "    for _ in range(1):\n",
        "      obs, reward, done, info = env.step(env.action_space.sample())\n",
        "      \n",
        "      if (done):\n",
        "        break\n",
        "\n",
        "  return len(steps)\n",
        "\n",
        "\n",
        "for i in range(1):\n",
        "  result = run1()\n"
      ],
      "execution_count": 7,
      "outputs": [
        {
          "output_type": "stream",
          "name": "stdout",
          "text": [
            "CPU times: user 1.29 ms, sys: 1.19 ms, total: 2.47 ms\n",
            "Wall time: 4.75 ms\n"
          ]
        }
      ]
    },
    {
      "cell_type": "code",
      "metadata": {
        "colab": {
          "base_uri": "https://localhost:8080/"
        },
        "id": "FQ0NFKgmhQMK",
        "outputId": "ca386242-7bb5-4fb8-c82e-aec2b998e363"
      },
      "source": [
        "%%time\n",
        "\n",
        "@ray.remote\n",
        "def run2():\n",
        "  for i in range(1):  # for nice training make it to 1000000\n",
        "    env = gym.make(\"CartPole-v0\")\n",
        "    env.reset()\n",
        "    steps = []\n",
        "\n",
        "    for _ in range(1):  # for nice training make it to 100\n",
        "      obs, reward, done, info = env.step(env.action_space.sample())\n",
        "      if(done):\n",
        "        break\n",
        "    \n",
        "  return len(steps)\n",
        "\n",
        "for i in range(1):\n",
        "  result = ray.get([run2.remote() for i in range(7)])"
      ],
      "execution_count": 11,
      "outputs": [
        {
          "output_type": "stream",
          "name": "stdout",
          "text": [
            "CPU times: user 6.42 ms, sys: 3.26 ms, total: 9.68 ms\n",
            "Wall time: 17.9 ms\n"
          ]
        }
      ]
    },
    {
      "cell_type": "code",
      "metadata": {
        "colab": {
          "base_uri": "https://localhost:8080/"
        },
        "id": "cbwpIxjbi2K2",
        "outputId": "0c5881b9-c95d-4cab-930f-b861657205b2"
      },
      "source": [
        "%%time\n",
        "\n",
        "def run2():\n",
        "  for i in range(1):  # for nice training make it to 1000000\n",
        "    env = gym.make(\"CartPole-v0\")\n",
        "    env.reset()\n",
        "    steps = []\n",
        "\n",
        "    for _ in range(1):  # for nice training make it to 100\n",
        "      obs, reward, done, info = env.step(env.action_space.sample())\n",
        "      if(done):\n",
        "        break\n",
        "    \n",
        "  return len(steps)\n",
        "\n",
        "for i in range(1):\n",
        "  result = run2()"
      ],
      "execution_count": null,
      "outputs": [
        {
          "output_type": "stream",
          "name": "stdout",
          "text": [
            "CPU times: user 2.86 ms, sys: 761 µs, total: 3.62 ms\n",
            "Wall time: 3.36 ms\n"
          ]
        }
      ]
    },
    {
      "cell_type": "code",
      "metadata": {
        "colab": {
          "base_uri": "https://localhost:8080/"
        },
        "id": "lZvB2OrGqeRg",
        "outputId": "1afa97d4-42d0-4a21-8010-fa3d9315cd3f"
      },
      "source": [
        "%%time\n",
        "@ray.remote\n",
        "def f(x):\n",
        "  for i in range(100000):\n",
        "    sum(range(i*100, 400010))\n",
        "    # time.sleep(4)\n",
        "\n",
        "  return x\n",
        "\n",
        "result_ids = []\n",
        "for i in range(4):\n",
        "  result_ids.append(f.remote(i))\n",
        "\n",
        "print(len(result_ids))\n",
        "\n",
        "%time results = ray.get(result_ids)\n"
      ],
      "execution_count": null,
      "outputs": [
        {
          "output_type": "stream",
          "name": "stdout",
          "text": [
            "4\n",
            "CPU times: user 903 ms, sys: 180 ms, total: 1.08 s\n",
            "Wall time: 57.2 s\n",
            "CPU times: user 908 ms, sys: 181 ms, total: 1.09 s\n",
            "Wall time: 57.2 s\n"
          ]
        }
      ]
    },
    {
      "cell_type": "code",
      "metadata": {
        "colab": {
          "base_uri": "https://localhost:8080/"
        },
        "id": "zcF4bp8gqeTr",
        "outputId": "dbbf10f1-6c46-4de0-8c0b-1c96b3254ae9"
      },
      "source": [
        "%%time\n",
        "envS = []\n",
        "population = 10\n",
        "import time \n",
        "for i in range(population):\n",
        "  name = \"Mountain-v0\"\n",
        "  name = 'CarRacing-v0'\n",
        "  name = 'BipedalWalker-v2'\n",
        "  name = 'CartPole-v0'\n",
        "  envS.append(gym.make(name))\n",
        "  envS.append(gym.make(name))\n",
        "  envS[i].reset()\n",
        "\n",
        "for env in envS:\n",
        "  env.reset()\n",
        "  for _ in range(1):  # make it to 100\n",
        "    action = env.action_space.sample()\n",
        "    state, reward, done, info = env.step(action)\n",
        "\n",
        "    if (done):\n",
        "      break\n",
        "    \n",
        "    if (population == 1):\n",
        "      env.render()\n",
        "\n",
        "for env in envS:\n",
        "  env.close()\n"
      ],
      "execution_count": 5,
      "outputs": [
        {
          "output_type": "stream",
          "name": "stdout",
          "text": [
            "CPU times: user 22.5 ms, sys: 0 ns, total: 22.5 ms\n",
            "Wall time: 23.4 ms\n"
          ]
        }
      ]
    },
    {
      "cell_type": "code",
      "metadata": {
        "id": "aT27eX-VsONy",
        "colab": {
          "base_uri": "https://localhost:8080/"
        },
        "outputId": "4136b6c2-0efa-4261-e271-06076cc7f24e"
      },
      "source": [
        "## Serial Version :\n",
        "\n",
        "%%time\n",
        "\n",
        "import gym\n",
        "import numpy as np\n",
        "import time\n",
        "\n",
        "def run1():\n",
        "    env = gym.make(\"CartPole-v0\")\n",
        "    env.reset()\n",
        "    steps = []\n",
        "    for _ in range(1):\n",
        "      obs, reward, done, info = env.step(env.action_space.sample())\n",
        "      \n",
        "      if (done):\n",
        "        break\n",
        "\n",
        "    return len(steps)\n",
        "\n",
        "\n",
        "for i in range(1):\n",
        "  result = run1()\n"
      ],
      "execution_count": 19,
      "outputs": [
        {
          "output_type": "stream",
          "name": "stdout",
          "text": [
            "CPU times: user 2.06 ms, sys: 0 ns, total: 2.06 ms\n",
            "Wall time: 2.07 ms\n"
          ]
        }
      ]
    },
    {
      "cell_type": "code",
      "metadata": {
        "colab": {
          "base_uri": "https://localhost:8080/"
        },
        "id": "hEe_erSVItnO",
        "outputId": "c2bc9324-7a6d-4e13-8cf9-a00268db9a27"
      },
      "source": [
        "# Parallel Version\n",
        "\n",
        "%%time\n",
        "\n",
        "def run2():\n",
        "    env = gym.make(\"CartPole-v0\")\n",
        "    env.reset()\n",
        "    steps = []\n",
        "\n",
        "    for _ in range(1):  # for nice training make it to 100\n",
        "      obs, reward, done, info = env.step(env.action_space.sample())\n",
        "      if(done):\n",
        "        break\n",
        "    \n",
        "    return len(steps)\n",
        "\n",
        "for i in range(1):\n",
        "  result = run2()"
      ],
      "execution_count": 20,
      "outputs": [
        {
          "output_type": "stream",
          "name": "stdout",
          "text": [
            "CPU times: user 1.87 ms, sys: 195 µs, total: 2.06 ms\n",
            "Wall time: 2.03 ms\n"
          ]
        }
      ]
    },
    {
      "cell_type": "code",
      "metadata": {
        "id": "o_xvEEFUI3j4"
      },
      "source": [
        ""
      ],
      "execution_count": null,
      "outputs": []
    }
  ]
}